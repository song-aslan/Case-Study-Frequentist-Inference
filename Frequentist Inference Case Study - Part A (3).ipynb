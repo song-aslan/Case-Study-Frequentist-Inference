{
 "cells": [
  {
   "cell_type": "markdown",
   "metadata": {},
   "source": [
    "# Frequentist Inference Case Study - Part A "
   ]
  },
  {
   "cell_type": "markdown",
   "metadata": {},
   "source": [
    "## 1. Learning objectives"
   ]
  },
  {
   "cell_type": "markdown",
   "metadata": {},
   "source": [
    "Welcome to part A of the Frequentist inference case study! The purpose of this case study is to help you apply the concepts associated with Frequentist inference in Python. Frequentist inference is the process of deriving conclusions about an underlying distribution via the observation of data. In particular, you'll practice writing Python code to apply the following statistical concepts: \n",
    "* the _z_-statistic\n",
    "* the _t_-statistic\n",
    "* the difference and relationship between the two\n",
    "* the Central Limit Theorem, including its assumptions and consequences\n",
    "* how to estimate the population mean and standard deviation from a sample\n",
    "* the concept of a sampling distribution of a test statistic, particularly for the mean\n",
    "* how to combine these concepts to calculate a confidence interval"
   ]
  },
  {
   "cell_type": "markdown",
   "metadata": {},
   "source": [
    "## Prerequisites"
   ]
  },
  {
   "cell_type": "markdown",
   "metadata": {},
   "source": [
    "To be able to complete this notebook, you are expected to have a basic understanding of:\n",
    "* what a random variable is (p.400 of Professor Spiegelhalter's *The Art of Statistics, hereinafter AoS*)\n",
    "* what a population, and a population distribution, are (p. 397 of *AoS*)\n",
    "* a high-level sense of what the normal distribution is (p. 394 of *AoS*)\n",
    "* what the t-statistic is (p. 275 of *AoS*)\n",
    "\n",
    "Happily, these should all be concepts with which you are reasonably familiar after having read ten chapters of Professor Spiegelhalter's book, *The Art of Statistics*.\n",
    "\n",
    "We'll try to relate the concepts in this case study back to page numbers in *The Art of Statistics* so that you can focus on the Python aspects of this case study. The second part (part B) of this case study will involve another, more real-world application of these tools. "
   ]
  },
  {
   "cell_type": "markdown",
   "metadata": {},
   "source": [
    "For this notebook, we will use data sampled from a known normal distribution. This allows us to compare our results with theoretical expectations."
   ]
  },
  {
   "cell_type": "markdown",
   "metadata": {},
   "source": [
    "## 2. An introduction to sampling from the normal distribution"
   ]
  },
  {
   "cell_type": "markdown",
   "metadata": {},
   "source": [
    "First, let's explore the ways we can generate the normal distribution. While there's a fair amount of interest in [sklearn](https://scikit-learn.org/stable/) within the machine learning community, you're likely to have heard of [scipy](https://docs.scipy.org/doc/scipy-0.15.1/reference/index.html) if you're coming from the sciences. For this assignment, you'll use [scipy.stats](https://docs.scipy.org/doc/scipy-0.15.1/reference/tutorial/stats.html) to complete your work. \n",
    "\n",
    "This assignment will require some digging around and getting your hands dirty (your learning is maximized that way)! You should have the research skills and the tenacity to do these tasks independently, but if you struggle, reach out to your immediate community and your mentor for help. "
   ]
  },
  {
   "cell_type": "code",
   "execution_count": 1,
   "metadata": {},
   "outputs": [],
   "source": [
    "from scipy.stats import norm\n",
    "from scipy.stats import t\n",
    "import numpy as np\n",
    "import pandas as pd\n",
    "from numpy.random import seed\n",
    "import matplotlib.pyplot as plt"
   ]
  },
  {
   "cell_type": "markdown",
   "metadata": {},
   "source": [
    "__Q1:__ Call up the documentation for the `norm` function imported above. (Hint: that documentation is [here](https://docs.scipy.org/doc/scipy/reference/generated/scipy.stats.norm.html)). What is the second listed method?"
   ]
  },
  {
   "cell_type": "code",
   "execution_count": 2,
   "metadata": {},
   "outputs": [
    {
     "name": "stdout",
     "output_type": "stream",
     "text": [
      "Help on norm_gen in module scipy.stats._continuous_distns object:\n",
      "\n",
      "class norm_gen(scipy.stats._distn_infrastructure.rv_continuous)\n",
      " |  norm_gen(momtype=1, a=None, b=None, xtol=1e-14, badvalue=None, name=None, longname=None, shapes=None, extradoc=None, seed=None)\n",
      " |  \n",
      " |  A normal continuous random variable.\n",
      " |  \n",
      " |  The location (``loc``) keyword specifies the mean.\n",
      " |  The scale (``scale``) keyword specifies the standard deviation.\n",
      " |  \n",
      " |  %(before_notes)s\n",
      " |  \n",
      " |  Notes\n",
      " |  -----\n",
      " |  The probability density function for `norm` is:\n",
      " |  \n",
      " |  .. math::\n",
      " |  \n",
      " |      f(x) = \\frac{\\exp(-x^2/2)}{\\sqrt{2\\pi}}\n",
      " |  \n",
      " |  for a real number :math:`x`.\n",
      " |  \n",
      " |  %(after_notes)s\n",
      " |  \n",
      " |  %(example)s\n",
      " |  \n",
      " |  Method resolution order:\n",
      " |      norm_gen\n",
      " |      scipy.stats._distn_infrastructure.rv_continuous\n",
      " |      scipy.stats._distn_infrastructure.rv_generic\n",
      " |      builtins.object\n",
      " |  \n",
      " |  Methods defined here:\n",
      " |  \n",
      " |  fit(self, data, **kwds)\n",
      " |      Return MLEs for shape (if applicable), location, and scale\n",
      " |      parameters from data.\n",
      " |      \n",
      " |      MLE stands for Maximum Likelihood Estimate.  Starting estimates for\n",
      " |      the fit are given by input arguments; for any arguments not provided\n",
      " |      with starting estimates, ``self._fitstart(data)`` is called to generate\n",
      " |      such.\n",
      " |      \n",
      " |      One can hold some parameters fixed to specific values by passing in\n",
      " |      keyword arguments ``f0``, ``f1``, ..., ``fn`` (for shape parameters)\n",
      " |      and ``floc`` and ``fscale`` (for location and scale parameters,\n",
      " |      respectively).\n",
      " |      \n",
      " |      Parameters\n",
      " |      ----------\n",
      " |      data : array_like\n",
      " |          Data to use in calculating the MLEs.\n",
      " |      arg1, arg2, arg3,... : floats, optional\n",
      " |          Starting value(s) for any shape-characterizing arguments (those not\n",
      " |          provided will be determined by a call to ``_fitstart(data)``).\n",
      " |          No default value.\n",
      " |      kwds : floats, optional\n",
      " |          - `loc`: initial guess of the distribution's location parameter.\n",
      " |          - `scale`: initial guess of the distribution's scale parameter.\n",
      " |      \n",
      " |          Special keyword arguments are recognized as holding certain\n",
      " |          parameters fixed:\n",
      " |      \n",
      " |          - f0...fn : hold respective shape parameters fixed.\n",
      " |            Alternatively, shape parameters to fix can be specified by name.\n",
      " |            For example, if ``self.shapes == \"a, b\"``, ``fa`` and ``fix_a``\n",
      " |            are equivalent to ``f0``, and ``fb`` and ``fix_b`` are\n",
      " |            equivalent to ``f1``.\n",
      " |      \n",
      " |          - floc : hold location parameter fixed to specified value.\n",
      " |      \n",
      " |          - fscale : hold scale parameter fixed to specified value.\n",
      " |      \n",
      " |          - optimizer : The optimizer to use.  The optimizer must take ``func``,\n",
      " |            and starting position as the first two arguments,\n",
      " |            plus ``args`` (for extra arguments to pass to the\n",
      " |            function to be optimized) and ``disp=0`` to suppress\n",
      " |            output as keyword arguments.\n",
      " |      \n",
      " |      Returns\n",
      " |      -------\n",
      " |      mle_tuple : tuple of floats\n",
      " |          MLEs for any shape parameters (if applicable), followed by those\n",
      " |          for location and scale. For most random variables, shape statistics\n",
      " |          will be returned, but there are exceptions (e.g. ``norm``).\n",
      " |      \n",
      " |      Notes\n",
      " |      -----\n",
      " |      This function uses explicit formulas for the maximum likelihood\n",
      " |      estimation of the normal distribution parameters, so the\n",
      " |      `optimizer` argument is ignored.\n",
      " |      \n",
      " |      Examples\n",
      " |      --------\n",
      " |      \n",
      " |      Generate some data to fit: draw random variates from the `beta`\n",
      " |      distribution\n",
      " |      \n",
      " |      >>> from scipy.stats import beta\n",
      " |      >>> a, b = 1., 2.\n",
      " |      >>> x = beta.rvs(a, b, size=1000)\n",
      " |      \n",
      " |      Now we can fit all four parameters (``a``, ``b``, ``loc`` and ``scale``):\n",
      " |      \n",
      " |      >>> a1, b1, loc1, scale1 = beta.fit(x)\n",
      " |      \n",
      " |      We can also use some prior knowledge about the dataset: let's keep\n",
      " |      ``loc`` and ``scale`` fixed:\n",
      " |      \n",
      " |      >>> a1, b1, loc1, scale1 = beta.fit(x, floc=0, fscale=1)\n",
      " |      >>> loc1, scale1\n",
      " |      (0, 1)\n",
      " |      \n",
      " |      We can also keep shape parameters fixed by using ``f``-keywords. To\n",
      " |      keep the zero-th shape parameter ``a`` equal 1, use ``f0=1`` or,\n",
      " |      equivalently, ``fa=1``:\n",
      " |      \n",
      " |      >>> a1, b1, loc1, scale1 = beta.fit(x, fa=1, floc=0, fscale=1)\n",
      " |      >>> a1\n",
      " |      1\n",
      " |      \n",
      " |      Not all distributions return estimates for the shape parameters.\n",
      " |      ``norm`` for example just returns estimates for location and scale:\n",
      " |      \n",
      " |      >>> from scipy.stats import norm\n",
      " |      >>> x = norm.rvs(a, b, size=1000, random_state=123)\n",
      " |      >>> loc1, scale1 = norm.fit(x)\n",
      " |      >>> loc1, scale1\n",
      " |      (0.92087172783841631, 2.0015750750324668)\n",
      " |  \n",
      " |  ----------------------------------------------------------------------\n",
      " |  Methods inherited from scipy.stats._distn_infrastructure.rv_continuous:\n",
      " |  \n",
      " |  __init__(self, momtype=1, a=None, b=None, xtol=1e-14, badvalue=None, name=None, longname=None, shapes=None, extradoc=None, seed=None)\n",
      " |      Initialize self.  See help(type(self)) for accurate signature.\n",
      " |  \n",
      " |  cdf(self, x, *args, **kwds)\n",
      " |      Cumulative distribution function of the given RV.\n",
      " |      \n",
      " |      Parameters\n",
      " |      ----------\n",
      " |      x : array_like\n",
      " |          quantiles\n",
      " |      arg1, arg2, arg3,... : array_like\n",
      " |          The shape parameter(s) for the distribution (see docstring of the\n",
      " |          instance object for more information)\n",
      " |      loc : array_like, optional\n",
      " |          location parameter (default=0)\n",
      " |      scale : array_like, optional\n",
      " |          scale parameter (default=1)\n",
      " |      \n",
      " |      Returns\n",
      " |      -------\n",
      " |      cdf : ndarray\n",
      " |          Cumulative distribution function evaluated at `x`\n",
      " |  \n",
      " |  expect(self, func=None, args=(), loc=0, scale=1, lb=None, ub=None, conditional=False, **kwds)\n",
      " |      Calculate expected value of a function with respect to the\n",
      " |      distribution by numerical integration.\n",
      " |      \n",
      " |      The expected value of a function ``f(x)`` with respect to a\n",
      " |      distribution ``dist`` is defined as::\n",
      " |      \n",
      " |                  ub\n",
      " |          E[f(x)] = Integral(f(x) * dist.pdf(x)),\n",
      " |                  lb\n",
      " |      \n",
      " |      where ``ub`` and ``lb`` are arguments and ``x`` has the ``dist.pdf(x)``\n",
      " |      distribution. If the bounds ``lb`` and ``ub`` correspond to the\n",
      " |      support of the distribution, e.g. ``[-inf, inf]`` in the default\n",
      " |      case, then the integral is the unrestricted expectation of ``f(x)``.\n",
      " |      Also, the function ``f(x)`` may be defined such that ``f(x)`` is ``0``\n",
      " |      outside a finite interval in which case the expectation is\n",
      " |      calculated within the finite range ``[lb, ub]``.\n",
      " |      \n",
      " |      Parameters\n",
      " |      ----------\n",
      " |      func : callable, optional\n",
      " |          Function for which integral is calculated. Takes only one argument.\n",
      " |          The default is the identity mapping f(x) = x.\n",
      " |      args : tuple, optional\n",
      " |          Shape parameters of the distribution.\n",
      " |      loc : float, optional\n",
      " |          Location parameter (default=0).\n",
      " |      scale : float, optional\n",
      " |          Scale parameter (default=1).\n",
      " |      lb, ub : scalar, optional\n",
      " |          Lower and upper bound for integration. Default is set to the\n",
      " |          support of the distribution.\n",
      " |      conditional : bool, optional\n",
      " |          If True, the integral is corrected by the conditional probability\n",
      " |          of the integration interval.  The return value is the expectation\n",
      " |          of the function, conditional on being in the given interval.\n",
      " |          Default is False.\n",
      " |      \n",
      " |      Additional keyword arguments are passed to the integration routine.\n",
      " |      \n",
      " |      Returns\n",
      " |      -------\n",
      " |      expect : float\n",
      " |          The calculated expected value.\n",
      " |      \n",
      " |      Notes\n",
      " |      -----\n",
      " |      The integration behavior of this function is inherited from\n",
      " |      `scipy.integrate.quad`. Neither this function nor\n",
      " |      `scipy.integrate.quad` can verify whether the integral exists or is\n",
      " |      finite. For example ``cauchy(0).mean()`` returns ``np.nan`` and\n",
      " |      ``cauchy(0).expect()`` returns ``0.0``.\n",
      " |      \n",
      " |      The function is not vectorized.\n",
      " |      \n",
      " |      Examples\n",
      " |      --------\n",
      " |      \n",
      " |      To understand the effect of the bounds of integration consider\n",
      " |      \n",
      " |      >>> from scipy.stats import expon\n",
      " |      >>> expon(1).expect(lambda x: 1, lb=0.0, ub=2.0)\n",
      " |      0.6321205588285578\n",
      " |      \n",
      " |      This is close to\n",
      " |      \n",
      " |      >>> expon(1).cdf(2.0) - expon(1).cdf(0.0)\n",
      " |      0.6321205588285577\n",
      " |      \n",
      " |      If ``conditional=True``\n",
      " |      \n",
      " |      >>> expon(1).expect(lambda x: 1, lb=0.0, ub=2.0, conditional=True)\n",
      " |      1.0000000000000002\n",
      " |      \n",
      " |      The slight deviation from 1 is due to numerical integration.\n",
      " |  \n",
      " |  fit_loc_scale(self, data, *args)\n",
      " |      Estimate loc and scale parameters from data using 1st and 2nd moments.\n",
      " |      \n",
      " |      Parameters\n",
      " |      ----------\n",
      " |      data : array_like\n",
      " |          Data to fit.\n",
      " |      arg1, arg2, arg3,... : array_like\n",
      " |          The shape parameter(s) for the distribution (see docstring of the\n",
      " |          instance object for more information).\n",
      " |      \n",
      " |      Returns\n",
      " |      -------\n",
      " |      Lhat : float\n",
      " |          Estimated location parameter for the data.\n",
      " |      Shat : float\n",
      " |          Estimated scale parameter for the data.\n",
      " |  \n",
      " |  isf(self, q, *args, **kwds)\n",
      " |      Inverse survival function (inverse of `sf`) at q of the given RV.\n",
      " |      \n",
      " |      Parameters\n",
      " |      ----------\n",
      " |      q : array_like\n",
      " |          upper tail probability\n",
      " |      arg1, arg2, arg3,... : array_like\n",
      " |          The shape parameter(s) for the distribution (see docstring of the\n",
      " |          instance object for more information)\n",
      " |      loc : array_like, optional\n",
      " |          location parameter (default=0)\n",
      " |      scale : array_like, optional\n",
      " |          scale parameter (default=1)\n",
      " |      \n",
      " |      Returns\n",
      " |      -------\n",
      " |      x : ndarray or scalar\n",
      " |          Quantile corresponding to the upper tail probability q.\n",
      " |  \n",
      " |  logcdf(self, x, *args, **kwds)\n",
      " |      Log of the cumulative distribution function at x of the given RV.\n",
      " |      \n",
      " |      Parameters\n",
      " |      ----------\n",
      " |      x : array_like\n",
      " |          quantiles\n",
      " |      arg1, arg2, arg3,... : array_like\n",
      " |          The shape parameter(s) for the distribution (see docstring of the\n",
      " |          instance object for more information)\n",
      " |      loc : array_like, optional\n",
      " |          location parameter (default=0)\n",
      " |      scale : array_like, optional\n",
      " |          scale parameter (default=1)\n",
      " |      \n",
      " |      Returns\n",
      " |      -------\n",
      " |      logcdf : array_like\n",
      " |          Log of the cumulative distribution function evaluated at x\n",
      " |  \n",
      " |  logpdf(self, x, *args, **kwds)\n",
      " |      Log of the probability density function at x of the given RV.\n",
      " |      \n",
      " |      This uses a more numerically accurate calculation if available.\n",
      " |      \n",
      " |      Parameters\n",
      " |      ----------\n",
      " |      x : array_like\n",
      " |          quantiles\n",
      " |      arg1, arg2, arg3,... : array_like\n",
      " |          The shape parameter(s) for the distribution (see docstring of the\n",
      " |          instance object for more information)\n",
      " |      loc : array_like, optional\n",
      " |          location parameter (default=0)\n",
      " |      scale : array_like, optional\n",
      " |          scale parameter (default=1)\n",
      " |      \n",
      " |      Returns\n",
      " |      -------\n",
      " |      logpdf : array_like\n",
      " |          Log of the probability density function evaluated at x\n",
      " |  \n",
      " |  logsf(self, x, *args, **kwds)\n",
      " |      Log of the survival function of the given RV.\n",
      " |      \n",
      " |      Returns the log of the \"survival function,\" defined as (1 - `cdf`),\n",
      " |      evaluated at `x`.\n",
      " |      \n",
      " |      Parameters\n",
      " |      ----------\n",
      " |      x : array_like\n",
      " |          quantiles\n",
      " |      arg1, arg2, arg3,... : array_like\n",
      " |          The shape parameter(s) for the distribution (see docstring of the\n",
      " |          instance object for more information)\n",
      " |      loc : array_like, optional\n",
      " |          location parameter (default=0)\n",
      " |      scale : array_like, optional\n",
      " |          scale parameter (default=1)\n",
      " |      \n",
      " |      Returns\n",
      " |      -------\n",
      " |      logsf : ndarray\n",
      " |          Log of the survival function evaluated at `x`.\n",
      " |  \n",
      " |  nnlf(self, theta, x)\n",
      " |      Return negative loglikelihood function.\n",
      " |      \n",
      " |      Notes\n",
      " |      -----\n",
      " |      This is ``-sum(log pdf(x, theta), axis=0)`` where `theta` are the\n",
      " |      parameters (including loc and scale).\n",
      " |  \n",
      " |  pdf(self, x, *args, **kwds)\n",
      " |      Probability density function at x of the given RV.\n",
      " |      \n",
      " |      Parameters\n",
      " |      ----------\n",
      " |      x : array_like\n",
      " |          quantiles\n",
      " |      arg1, arg2, arg3,... : array_like\n",
      " |          The shape parameter(s) for the distribution (see docstring of the\n",
      " |          instance object for more information)\n",
      " |      loc : array_like, optional\n",
      " |          location parameter (default=0)\n",
      " |      scale : array_like, optional\n",
      " |          scale parameter (default=1)\n",
      " |      \n",
      " |      Returns\n",
      " |      -------\n",
      " |      pdf : ndarray\n",
      " |          Probability density function evaluated at x\n",
      " |  \n",
      " |  ppf(self, q, *args, **kwds)\n",
      " |      Percent point function (inverse of `cdf`) at q of the given RV.\n",
      " |      \n",
      " |      Parameters\n",
      " |      ----------\n",
      " |      q : array_like\n",
      " |          lower tail probability\n",
      " |      arg1, arg2, arg3,... : array_like\n",
      " |          The shape parameter(s) for the distribution (see docstring of the\n",
      " |          instance object for more information)\n",
      " |      loc : array_like, optional\n",
      " |          location parameter (default=0)\n",
      " |      scale : array_like, optional\n",
      " |          scale parameter (default=1)\n",
      " |      \n",
      " |      Returns\n",
      " |      -------\n",
      " |      x : array_like\n",
      " |          quantile corresponding to the lower tail probability q.\n",
      " |  \n",
      " |  sf(self, x, *args, **kwds)\n",
      " |      Survival function (1 - `cdf`) at x of the given RV.\n",
      " |      \n",
      " |      Parameters\n",
      " |      ----------\n",
      " |      x : array_like\n",
      " |          quantiles\n",
      " |      arg1, arg2, arg3,... : array_like\n",
      " |          The shape parameter(s) for the distribution (see docstring of the\n",
      " |          instance object for more information)\n",
      " |      loc : array_like, optional\n",
      " |          location parameter (default=0)\n",
      " |      scale : array_like, optional\n",
      " |          scale parameter (default=1)\n",
      " |      \n",
      " |      Returns\n",
      " |      -------\n",
      " |      sf : array_like\n",
      " |          Survival function evaluated at x\n",
      " |  \n",
      " |  ----------------------------------------------------------------------\n",
      " |  Methods inherited from scipy.stats._distn_infrastructure.rv_generic:\n",
      " |  \n",
      " |  __call__(self, *args, **kwds)\n",
      " |      Freeze the distribution for the given arguments.\n",
      " |      \n",
      " |      Parameters\n",
      " |      ----------\n",
      " |      arg1, arg2, arg3,... : array_like\n",
      " |          The shape parameter(s) for the distribution.  Should include all\n",
      " |          the non-optional arguments, may include ``loc`` and ``scale``.\n",
      " |      \n",
      " |      Returns\n",
      " |      -------\n",
      " |      rv_frozen : rv_frozen instance\n",
      " |          The frozen distribution.\n",
      " |  \n",
      " |  __getstate__(self)\n",
      " |  \n",
      " |  __setstate__(self, state)\n",
      " |  \n",
      " |  entropy(self, *args, **kwds)\n",
      " |      Differential entropy of the RV.\n",
      " |      \n",
      " |      Parameters\n",
      " |      ----------\n",
      " |      arg1, arg2, arg3,... : array_like\n",
      " |          The shape parameter(s) for the distribution (see docstring of the\n",
      " |          instance object for more information).\n",
      " |      loc : array_like, optional\n",
      " |          Location parameter (default=0).\n",
      " |      scale : array_like, optional  (continuous distributions only).\n",
      " |          Scale parameter (default=1).\n",
      " |      \n",
      " |      Notes\n",
      " |      -----\n",
      " |      Entropy is defined base `e`:\n",
      " |      \n",
      " |      >>> drv = rv_discrete(values=((0, 1), (0.5, 0.5)))\n",
      " |      >>> np.allclose(drv.entropy(), np.log(2.0))\n",
      " |      True\n",
      " |  \n",
      " |  freeze(self, *args, **kwds)\n",
      " |      Freeze the distribution for the given arguments.\n",
      " |      \n",
      " |      Parameters\n",
      " |      ----------\n",
      " |      arg1, arg2, arg3,... : array_like\n",
      " |          The shape parameter(s) for the distribution.  Should include all\n",
      " |          the non-optional arguments, may include ``loc`` and ``scale``.\n",
      " |      \n",
      " |      Returns\n",
      " |      -------\n",
      " |      rv_frozen : rv_frozen instance\n",
      " |          The frozen distribution.\n",
      " |  \n",
      " |  interval(self, alpha, *args, **kwds)\n",
      " |      Confidence interval with equal areas around the median.\n",
      " |      \n",
      " |      Parameters\n",
      " |      ----------\n",
      " |      alpha : array_like of float\n",
      " |          Probability that an rv will be drawn from the returned range.\n",
      " |          Each value should be in the range [0, 1].\n",
      " |      arg1, arg2, ... : array_like\n",
      " |          The shape parameter(s) for the distribution (see docstring of the\n",
      " |          instance object for more information).\n",
      " |      loc : array_like, optional\n",
      " |          location parameter, Default is 0.\n",
      " |      scale : array_like, optional\n",
      " |          scale parameter, Default is 1.\n",
      " |      \n",
      " |      Returns\n",
      " |      -------\n",
      " |      a, b : ndarray of float\n",
      " |          end-points of range that contain ``100 * alpha %`` of the rv's\n",
      " |          possible values.\n",
      " |  \n",
      " |  mean(self, *args, **kwds)\n",
      " |      Mean of the distribution.\n",
      " |      \n",
      " |      Parameters\n",
      " |      ----------\n",
      " |      arg1, arg2, arg3,... : array_like\n",
      " |          The shape parameter(s) for the distribution (see docstring of the\n",
      " |          instance object for more information)\n",
      " |      loc : array_like, optional\n",
      " |          location parameter (default=0)\n",
      " |      scale : array_like, optional\n",
      " |          scale parameter (default=1)\n",
      " |      \n",
      " |      Returns\n",
      " |      -------\n",
      " |      mean : float\n",
      " |          the mean of the distribution\n",
      " |  \n",
      " |  median(self, *args, **kwds)\n",
      " |      Median of the distribution.\n",
      " |      \n",
      " |      Parameters\n",
      " |      ----------\n",
      " |      arg1, arg2, arg3,... : array_like\n",
      " |          The shape parameter(s) for the distribution (see docstring of the\n",
      " |          instance object for more information)\n",
      " |      loc : array_like, optional\n",
      " |          Location parameter, Default is 0.\n",
      " |      scale : array_like, optional\n",
      " |          Scale parameter, Default is 1.\n",
      " |      \n",
      " |      Returns\n",
      " |      -------\n",
      " |      median : float\n",
      " |          The median of the distribution.\n",
      " |      \n",
      " |      See Also\n",
      " |      --------\n",
      " |      rv_discrete.ppf\n",
      " |          Inverse of the CDF\n",
      " |  \n",
      " |  moment(self, n, *args, **kwds)\n",
      " |      n-th order non-central moment of distribution.\n",
      " |      \n",
      " |      Parameters\n",
      " |      ----------\n",
      " |      n : int, n >= 1\n",
      " |          Order of moment.\n",
      " |      arg1, arg2, arg3,... : float\n",
      " |          The shape parameter(s) for the distribution (see docstring of the\n",
      " |          instance object for more information).\n",
      " |      loc : array_like, optional\n",
      " |          location parameter (default=0)\n",
      " |      scale : array_like, optional\n",
      " |          scale parameter (default=1)\n",
      " |  \n",
      " |  rvs(self, *args, **kwds)\n",
      " |      Random variates of given type.\n",
      " |      \n",
      " |      Parameters\n",
      " |      ----------\n",
      " |      arg1, arg2, arg3,... : array_like\n",
      " |          The shape parameter(s) for the distribution (see docstring of the\n",
      " |          instance object for more information).\n",
      " |      loc : array_like, optional\n",
      " |          Location parameter (default=0).\n",
      " |      scale : array_like, optional\n",
      " |          Scale parameter (default=1).\n",
      " |      size : int or tuple of ints, optional\n",
      " |          Defining number of random variates (default is 1).\n",
      " |      random_state : {None, int, `~np.random.RandomState`, `~np.random.Generator`}, optional\n",
      " |          If `seed` is `None` the `~np.random.RandomState` singleton is used.\n",
      " |          If `seed` is an int, a new ``RandomState`` instance is used, seeded\n",
      " |          with seed.\n",
      " |          If `seed` is already a ``RandomState`` or ``Generator`` instance,\n",
      " |          then that object is used.\n",
      " |          Default is None.\n",
      " |      \n",
      " |      Returns\n",
      " |      -------\n",
      " |      rvs : ndarray or scalar\n",
      " |          Random variates of given `size`.\n",
      " |  \n",
      " |  stats(self, *args, **kwds)\n",
      " |      Some statistics of the given RV.\n",
      " |      \n",
      " |      Parameters\n",
      " |      ----------\n",
      " |      arg1, arg2, arg3,... : array_like\n",
      " |          The shape parameter(s) for the distribution (see docstring of the\n",
      " |          instance object for more information)\n",
      " |      loc : array_like, optional\n",
      " |          location parameter (default=0)\n",
      " |      scale : array_like, optional (continuous RVs only)\n",
      " |          scale parameter (default=1)\n",
      " |      moments : str, optional\n",
      " |          composed of letters ['mvsk'] defining which moments to compute:\n",
      " |          'm' = mean,\n",
      " |          'v' = variance,\n",
      " |          's' = (Fisher's) skew,\n",
      " |          'k' = (Fisher's) kurtosis.\n",
      " |          (default is 'mv')\n",
      " |      \n",
      " |      Returns\n",
      " |      -------\n",
      " |      stats : sequence\n",
      " |          of requested moments.\n",
      " |  \n",
      " |  std(self, *args, **kwds)\n",
      " |      Standard deviation of the distribution.\n",
      " |      \n",
      " |      Parameters\n",
      " |      ----------\n",
      " |      arg1, arg2, arg3,... : array_like\n",
      " |          The shape parameter(s) for the distribution (see docstring of the\n",
      " |          instance object for more information)\n",
      " |      loc : array_like, optional\n",
      " |          location parameter (default=0)\n",
      " |      scale : array_like, optional\n",
      " |          scale parameter (default=1)\n",
      " |      \n",
      " |      Returns\n",
      " |      -------\n",
      " |      std : float\n",
      " |          standard deviation of the distribution\n",
      " |  \n",
      " |  support(self, *args, **kwargs)\n",
      " |      Return the support of the distribution.\n",
      " |      \n",
      " |      Parameters\n",
      " |      ----------\n",
      " |      arg1, arg2, ... : array_like\n",
      " |          The shape parameter(s) for the distribution (see docstring of the\n",
      " |          instance object for more information).\n",
      " |      loc : array_like, optional\n",
      " |          location parameter, Default is 0.\n",
      " |      scale : array_like, optional\n",
      " |          scale parameter, Default is 1.\n",
      " |      Returns\n",
      " |      -------\n",
      " |      a, b : float\n",
      " |          end-points of the distribution's support.\n",
      " |  \n",
      " |  var(self, *args, **kwds)\n",
      " |      Variance of the distribution.\n",
      " |      \n",
      " |      Parameters\n",
      " |      ----------\n",
      " |      arg1, arg2, arg3,... : array_like\n",
      " |          The shape parameter(s) for the distribution (see docstring of the\n",
      " |          instance object for more information)\n",
      " |      loc : array_like, optional\n",
      " |          location parameter (default=0)\n",
      " |      scale : array_like, optional\n",
      " |          scale parameter (default=1)\n",
      " |      \n",
      " |      Returns\n",
      " |      -------\n",
      " |      var : float\n",
      " |          the variance of the distribution\n",
      " |  \n",
      " |  ----------------------------------------------------------------------\n",
      " |  Data descriptors inherited from scipy.stats._distn_infrastructure.rv_generic:\n",
      " |  \n",
      " |  __dict__\n",
      " |      dictionary for instance variables (if defined)\n",
      " |  \n",
      " |  __weakref__\n",
      " |      list of weak references to the object (if defined)\n",
      " |  \n",
      " |  random_state\n",
      " |      Get or set the RandomState object for generating random variates.\n",
      " |      \n",
      " |      This can be either None, int, a RandomState instance, or a\n",
      " |      np.random.Generator instance.\n",
      " |      \n",
      " |      If None (or np.random), use the RandomState singleton used by np.random.\n",
      " |      If already a RandomState or Generator instance, use it.\n",
      " |      If an int, use a new RandomState instance seeded with seed.\n",
      "\n"
     ]
    }
   ],
   "source": [
    "help(norm)"
   ]
  },
  {
   "cell_type": "markdown",
   "metadata": {},
   "source": [
    "#### A1: The second method listed is rvs(self, *args, **kwds)."
   ]
  },
  {
   "cell_type": "markdown",
   "metadata": {},
   "source": [
    "__Q2:__ Use the method that generates random variates to draw five samples from the standard normal distribution. "
   ]
  },
  {
   "cell_type": "markdown",
   "metadata": {},
   "source": [
    "#### A2) See below:"
   ]
  },
  {
   "cell_type": "code",
   "execution_count": 3,
   "metadata": {},
   "outputs": [
    {
     "name": "stdout",
     "output_type": "stream",
     "text": [
      "[-0.84800948  1.30590636  0.92420797  0.6404118  -1.05473698]\n"
     ]
    }
   ],
   "source": [
    "seed(47)\n",
    "# draw five samples here\n",
    "samples = norm.rvs(loc=0, scale=1, size=5)\n",
    "print(samples)"
   ]
  },
  {
   "cell_type": "markdown",
   "metadata": {},
   "source": [
    "__Q3:__ What is the mean of this sample? Is it exactly equal to the value you expected? Hint: the sample was drawn from the standard normal distribution. If you want a reminder of the properties of this distribution, check out p. 85 of *AoS*. "
   ]
  },
  {
   "cell_type": "markdown",
   "metadata": {},
   "source": [
    "#### A3: The mean of the population is 0 since the distribution of the population is given by the standard normal distribution. The mean of the sample is 0.19355593334131074 (see below). Therefore the mean of the sample and the population are not equal.  "
   ]
  },
  {
   "cell_type": "code",
   "execution_count": 4,
   "metadata": {},
   "outputs": [
    {
     "name": "stdout",
     "output_type": "stream",
     "text": [
      "0.19355593334131074\n"
     ]
    }
   ],
   "source": [
    "# Calculate and print the mean here, hint: use np.mean()\n",
    "sample_mean=np.mean(samples)\n",
    "print(sample_mean)"
   ]
  },
  {
   "cell_type": "markdown",
   "metadata": {},
   "source": [
    "__Q4:__ What is the standard deviation of these numbers? Calculate this manually here as $\\sqrt{\\frac{\\sum_i(x_i - \\bar{x})^2}{n}}$ (This is just the definition of **standard deviation** given by Professor Spiegelhalter on p.403 of *AoS*). Hint: np.sqrt() and np.sum() will be useful here and remember that numPy supports [broadcasting](https://docs.scipy.org/doc/numpy/user/basics.broadcasting.html)."
   ]
  },
  {
   "cell_type": "markdown",
   "metadata": {},
   "source": [
    "#### A4) See below:"
   ]
  },
  {
   "cell_type": "code",
   "execution_count": 5,
   "metadata": {},
   "outputs": [
    {
     "data": {
      "text/plain": [
       "0.9606195639478641"
      ]
     },
     "execution_count": 5,
     "metadata": {},
     "output_type": "execute_result"
    }
   ],
   "source": [
    "#a=samples-sample_mean\n",
    "sample_var=np.sum((samples-sample_mean)**2)*0.2\n",
    "sample_std=np.sqrt(sample_var)\n",
    "sample_std\n"
   ]
  },
  {
   "cell_type": "markdown",
   "metadata": {},
   "source": [
    "Here we have calculated the actual standard deviation of a small data set (of size 5). But in this case, this small data set is actually a sample from our larger (infinite) population. In this case, the population is infinite because we could keep drawing our normal random variates until our computers die! \n",
    "\n",
    "In general, the sample mean we calculate will not be equal to the population mean (as we saw above). A consequence of this is that the sum of squares of the deviations from the _population_ mean will be bigger than the sum of squares of the deviations from the _sample_ mean. In other words, the sum of squares of the deviations from the _sample_ mean is too small to give an unbiased estimate of the _population_ variance. An example of this effect is given [here](https://en.wikipedia.org/wiki/Bessel%27s_correction#Source_of_bias). Scaling our estimate of the variance by the factor $n/(n-1)$ gives an unbiased estimator of the population variance. This factor is known as [Bessel's correction](https://en.wikipedia.org/wiki/Bessel%27s_correction). The consequence of this is that the $n$ in the denominator is replaced by $n-1$.\n",
    "\n",
    "You can see Bessel's correction reflected in Professor Spiegelhalter's definition of **variance** on p. 405 of *AoS*.\n",
    "\n",
    "__Q5:__ If all we had to go on was our five samples, what would be our best estimate of the population standard deviation? Use Bessel's correction ($n-1$ in the denominator), thus $\\sqrt{\\frac{\\sum_i(x_i - \\bar{x})^2}{n-1}}$."
   ]
  },
  {
   "cell_type": "markdown",
   "metadata": {},
   "source": [
    "#### A5: The unbiased standard deviation is 1.0740053227518152."
   ]
  },
  {
   "cell_type": "code",
   "execution_count": 6,
   "metadata": {},
   "outputs": [
    {
     "data": {
      "text/plain": [
       "1.0740053227518152"
      ]
     },
     "execution_count": 6,
     "metadata": {},
     "output_type": "execute_result"
    }
   ],
   "source": [
    "unbiased_sample_var=np.sum((samples-sample_mean)**2)*(0.25) # divided by 5-1=4.\n",
    "unbiased_sample_std=np.sqrt(unbiased_sample_var)\n",
    "unbiased_sample_std\n"
   ]
  },
  {
   "cell_type": "markdown",
   "metadata": {},
   "source": [
    "__Q6:__ Now use numpy's std function to calculate the standard deviation of our random samples. Which of the above standard deviations did it return?"
   ]
  },
  {
   "cell_type": "markdown",
   "metadata": {},
   "source": [
    "#### A6: We got the biased standard deviation (without the Bessel's corection)."
   ]
  },
  {
   "cell_type": "code",
   "execution_count": 7,
   "metadata": {},
   "outputs": [
    {
     "data": {
      "text/plain": [
       "0.9606195639478641"
      ]
     },
     "execution_count": 7,
     "metadata": {},
     "output_type": "execute_result"
    }
   ],
   "source": [
    "std_sample=np.std(samples)\n",
    "std_sample"
   ]
  },
  {
   "cell_type": "markdown",
   "metadata": {},
   "source": [
    "__Q7:__ Consult the documentation for np.std() to see how to apply the correction for estimating the population parameter and verify this produces the expected result."
   ]
  },
  {
   "cell_type": "markdown",
   "metadata": {},
   "source": [
    "#### A7) See below:"
   ]
  },
  {
   "cell_type": "code",
   "execution_count": 8,
   "metadata": {},
   "outputs": [
    {
     "name": "stdout",
     "output_type": "stream",
     "text": [
      "Help on function std in module numpy:\n",
      "\n",
      "std(a, axis=None, dtype=None, out=None, ddof=0, keepdims=<no value>)\n",
      "    Compute the standard deviation along the specified axis.\n",
      "    \n",
      "    Returns the standard deviation, a measure of the spread of a distribution,\n",
      "    of the array elements. The standard deviation is computed for the\n",
      "    flattened array by default, otherwise over the specified axis.\n",
      "    \n",
      "    Parameters\n",
      "    ----------\n",
      "    a : array_like\n",
      "        Calculate the standard deviation of these values.\n",
      "    axis : None or int or tuple of ints, optional\n",
      "        Axis or axes along which the standard deviation is computed. The\n",
      "        default is to compute the standard deviation of the flattened array.\n",
      "    \n",
      "        .. versionadded:: 1.7.0\n",
      "    \n",
      "        If this is a tuple of ints, a standard deviation is performed over\n",
      "        multiple axes, instead of a single axis or all the axes as before.\n",
      "    dtype : dtype, optional\n",
      "        Type to use in computing the standard deviation. For arrays of\n",
      "        integer type the default is float64, for arrays of float types it is\n",
      "        the same as the array type.\n",
      "    out : ndarray, optional\n",
      "        Alternative output array in which to place the result. It must have\n",
      "        the same shape as the expected output but the type (of the calculated\n",
      "        values) will be cast if necessary.\n",
      "    ddof : int, optional\n",
      "        Means Delta Degrees of Freedom.  The divisor used in calculations\n",
      "        is ``N - ddof``, where ``N`` represents the number of elements.\n",
      "        By default `ddof` is zero.\n",
      "    keepdims : bool, optional\n",
      "        If this is set to True, the axes which are reduced are left\n",
      "        in the result as dimensions with size one. With this option,\n",
      "        the result will broadcast correctly against the input array.\n",
      "    \n",
      "        If the default value is passed, then `keepdims` will not be\n",
      "        passed through to the `std` method of sub-classes of\n",
      "        `ndarray`, however any non-default value will be.  If the\n",
      "        sub-class' method does not implement `keepdims` any\n",
      "        exceptions will be raised.\n",
      "    \n",
      "    Returns\n",
      "    -------\n",
      "    standard_deviation : ndarray, see dtype parameter above.\n",
      "        If `out` is None, return a new array containing the standard deviation,\n",
      "        otherwise return a reference to the output array.\n",
      "    \n",
      "    See Also\n",
      "    --------\n",
      "    var, mean, nanmean, nanstd, nanvar\n",
      "    ufuncs-output-type\n",
      "    \n",
      "    Notes\n",
      "    -----\n",
      "    The standard deviation is the square root of the average of the squared\n",
      "    deviations from the mean, i.e., ``std = sqrt(mean(abs(x - x.mean())**2))``.\n",
      "    \n",
      "    The average squared deviation is normally calculated as\n",
      "    ``x.sum() / N``, where ``N = len(x)``.  If, however, `ddof` is specified,\n",
      "    the divisor ``N - ddof`` is used instead. In standard statistical\n",
      "    practice, ``ddof=1`` provides an unbiased estimator of the variance\n",
      "    of the infinite population. ``ddof=0`` provides a maximum likelihood\n",
      "    estimate of the variance for normally distributed variables. The\n",
      "    standard deviation computed in this function is the square root of\n",
      "    the estimated variance, so even with ``ddof=1``, it will not be an\n",
      "    unbiased estimate of the standard deviation per se.\n",
      "    \n",
      "    Note that, for complex numbers, `std` takes the absolute\n",
      "    value before squaring, so that the result is always real and nonnegative.\n",
      "    \n",
      "    For floating-point input, the *std* is computed using the same\n",
      "    precision the input has. Depending on the input data, this can cause\n",
      "    the results to be inaccurate, especially for float32 (see example below).\n",
      "    Specifying a higher-accuracy accumulator using the `dtype` keyword can\n",
      "    alleviate this issue.\n",
      "    \n",
      "    Examples\n",
      "    --------\n",
      "    >>> a = np.array([[1, 2], [3, 4]])\n",
      "    >>> np.std(a)\n",
      "    1.1180339887498949 # may vary\n",
      "    >>> np.std(a, axis=0)\n",
      "    array([1.,  1.])\n",
      "    >>> np.std(a, axis=1)\n",
      "    array([0.5,  0.5])\n",
      "    \n",
      "    In single precision, std() can be inaccurate:\n",
      "    \n",
      "    >>> a = np.zeros((2, 512*512), dtype=np.float32)\n",
      "    >>> a[0, :] = 1.0\n",
      "    >>> a[1, :] = 0.1\n",
      "    >>> np.std(a)\n",
      "    0.45000005\n",
      "    \n",
      "    Computing the standard deviation in float64 is more accurate:\n",
      "    \n",
      "    >>> np.std(a, dtype=np.float64)\n",
      "    0.44999999925494177 # may vary\n",
      "\n"
     ]
    }
   ],
   "source": [
    "help(np.std)"
   ]
  },
  {
   "cell_type": "code",
   "execution_count": 9,
   "metadata": {},
   "outputs": [
    {
     "data": {
      "text/plain": [
       "1.0740053227518152"
      ]
     },
     "execution_count": 9,
     "metadata": {},
     "output_type": "execute_result"
    }
   ],
   "source": [
    "sample_std_corrected=np.std(samples, ddof=1)\n",
    "sample_std_corrected"
   ]
  },
  {
   "cell_type": "markdown",
   "metadata": {},
   "source": [
    "### Summary of section"
   ]
  },
  {
   "cell_type": "markdown",
   "metadata": {},
   "source": [
    "In this section, you've been introduced to the scipy.stats package and used it to draw a small sample from the standard normal distribution. You've calculated the average (the mean) of this sample and seen that this is not exactly equal to the expected population parameter (which we know because we're generating the random variates from a specific, known distribution). You've been introduced to two ways of calculating the standard deviation; one uses $n$ in the denominator and the other uses $n-1$ (Bessel's correction). You've also seen which of these calculations np.std() performs by default and how to get it to generate the other."
   ]
  },
  {
   "cell_type": "markdown",
   "metadata": {},
   "source": [
    "You use $n$ as the denominator if you want to calculate the standard deviation of a sequence of numbers. You use $n-1$ if you are using this sequence of numbers to estimate the population parameter. This brings us to some terminology that can be a little confusing.\n",
    "\n",
    "The population parameter is traditionally written as $\\sigma$ and the sample statistic as $s$. Rather unhelpfully, $s$ is also called the sample standard deviation (using $n-1$) whereas the standard deviation of the sample uses $n$. That's right, we have the sample standard deviation and the standard deviation of the sample and they're not the same thing!\n",
    "\n",
    "The sample standard deviation\n",
    "\\begin{equation}\n",
    "s = \\sqrt{\\frac{\\sum_i(x_i - \\bar{x})^2}{n-1}} \\approx \\sigma,\n",
    "\\end{equation}\n",
    "is our best (unbiased) estimate of the population parameter ($\\sigma$).\n",
    "\n",
    "If your dataset _is_ your entire population, you simply want to calculate the population parameter, $\\sigma$, via\n",
    "\\begin{equation}\n",
    "\\sigma = \\sqrt{\\frac{\\sum_i(x_i - \\bar{x})^2}{n}}\n",
    "\\end{equation}\n",
    "as you have complete, full knowledge of your population. In other words, your sample _is_ your population. It's worth noting that we're dealing with what Professor Spiegehalter describes on p. 92 of *AoS* as a **metaphorical population**: we have all the data, and we act as if the data-point is taken from a population at random. We can think of this population as an imaginary space of possibilities. \n",
    "\n",
    "If, however, you have sampled _from_ your population, you only have partial knowledge of the state of your population. In this case, the standard deviation of your sample is not an unbiased estimate of the standard deviation of the population, in which case you seek to estimate that population parameter via the sample standard deviation, which uses the $n-1$ denominator."
   ]
  },
  {
   "cell_type": "markdown",
   "metadata": {},
   "source": [
    "Great work so far! Now let's dive deeper."
   ]
  },
  {
   "cell_type": "markdown",
   "metadata": {},
   "source": [
    "## 3. Sampling distributions"
   ]
  },
  {
   "cell_type": "markdown",
   "metadata": {},
   "source": [
    "So far we've been dealing with the concept of taking a sample from a population to infer the population parameters. One statistic we calculated for a sample was the mean. As our samples will be expected to vary from one draw to another, so will our sample statistics. If we were to perform repeat draws of size $n$ and calculate the mean of each, we would expect to obtain a distribution of values. This is the sampling distribution of the mean. **The Central Limit Theorem (CLT)** tells us that such a distribution will approach a normal distribution as $n$ increases (the intuitions behind the CLT are covered in full on p. 236 of *AoS*). For the sampling distribution of the mean, the standard deviation of this distribution is given by\n",
    "\n",
    "\\begin{equation}\n",
    "\\sigma_{mean} = \\frac{\\sigma}{\\sqrt n}\n",
    "\\end{equation}\n",
    "\n",
    "where $\\sigma_{mean}$ is the standard deviation of the sampling distribution of the mean and $\\sigma$ is the standard deviation of the population (the population parameter)."
   ]
  },
  {
   "cell_type": "markdown",
   "metadata": {},
   "source": [
    "This is important because typically we are dealing with samples from populations and all we know about the population is what we see in the sample. From this sample, we want to make inferences about the population. We may do this, for example, by looking at the histogram of the values and by calculating the mean and standard deviation (as estimates of the population parameters), and so we are intrinsically interested in how these quantities vary across samples. \n",
    "\n",
    "In other words, now that we've taken one sample of size $n$ and made some claims about the general population, what if we were to take another sample of size $n$? Would we get the same result? Would we make the same claims about the general population? This brings us to a fundamental question: _when we make some inference about a population based on our sample, how confident can we be that we've got it 'right'?_\n",
    "\n",
    "We need to think about **estimates and confidence intervals**: those concepts covered in Chapter 7, p. 189, of *AoS*."
   ]
  },
  {
   "cell_type": "markdown",
   "metadata": {},
   "source": [
    "Now, the standard normal distribution (with its variance equal to its standard deviation of one) would not be a great illustration of a key point. Instead, let's imagine we live in a town of 50,000 people and we know the height of everyone in this town. We will have 50,000 numbers that tell us everything about our population. We'll simulate these numbers now and put ourselves in one particular town, called 'town 47', where the population mean height is 172 cm and population standard deviation is 5 cm."
   ]
  },
  {
   "cell_type": "code",
   "execution_count": 10,
   "metadata": {},
   "outputs": [],
   "source": [
    "seed(47)\n",
    "pop_heights = norm.rvs(172, 5, size=50000)"
   ]
  },
  {
   "cell_type": "code",
   "execution_count": 11,
   "metadata": {},
   "outputs": [
    {
     "data": {
      "image/png": "[encoded data removed]",
      "text/plain": [
       "<Figure size 432x288 with 1 Axes>"
      ]
     },
     "metadata": {
      "needs_background": "light"
     },
     "output_type": "display_data"
    }
   ],
   "source": [
    "_ = plt.hist(pop_heights, bins=30)\n",
    "_ = plt.xlabel('height (cm)')\n",
    "_ = plt.ylabel('number of people')\n",
    "_ = plt.title('Distribution of heights in entire town population')\n",
    "_ = plt.axvline(172, color='r')\n",
    "_ = plt.axvline(172+5, color='r', linestyle='--')\n",
    "_ = plt.axvline(172-5, color='r', linestyle='--')\n",
    "_ = plt.axvline(172+10, color='r', linestyle='-.')\n",
    "_ = plt.axvline(172-10, color='r', linestyle='-.')"
   ]
  },
  {
   "cell_type": "markdown",
   "metadata": {},
   "source": [
    "Now, 50,000 people is rather a lot to chase after with a tape measure. If all you want to know is the average height of the townsfolk, then can you just go out and measure a sample to get a pretty good estimate of the average height?"
   ]
  },
  {
   "cell_type": "code",
   "execution_count": 12,
   "metadata": {},
   "outputs": [],
   "source": [
    "def townsfolk_sampler(n):\n",
    "    return np.random.choice(pop_heights, n)"
   ]
  },
  {
   "cell_type": "markdown",
   "metadata": {},
   "source": [
    "Let's say you go out one day and randomly sample 10 people to measure."
   ]
  },
  {
   "cell_type": "code",
   "execution_count": 13,
   "metadata": {},
   "outputs": [],
   "source": [
    "seed(47)\n",
    "daily_sample1 = townsfolk_sampler(10)"
   ]
  },
  {
   "cell_type": "code",
   "execution_count": 14,
   "metadata": {},
   "outputs": [
    {
     "data": {
      "image/png": "[encoded data removed]",
      "text/plain": [
       "<Figure size 432x288 with 1 Axes>"
      ]
     },
     "metadata": {
      "needs_background": "light"
     },
     "output_type": "display_data"
    }
   ],
   "source": [
    "_ = plt.hist(daily_sample1, bins=10)\n",
    "_ = plt.xlabel('height (cm)')\n",
    "_ = plt.ylabel('number of people')\n",
    "_ = plt.title('Distribution of heights in sample size 10')"
   ]
  },
  {
   "cell_type": "markdown",
   "metadata": {},
   "source": [
    "The sample distribution doesn't resemble what we take the population distribution to be. What do we get for the mean?"
   ]
  },
  {
   "cell_type": "code",
   "execution_count": 15,
   "metadata": {},
   "outputs": [
    {
     "data": {
      "text/plain": [
       "173.47911444163503"
      ]
     },
     "execution_count": 15,
     "metadata": {},
     "output_type": "execute_result"
    }
   ],
   "source": [
    "np.mean(daily_sample1)"
   ]
  },
  {
   "cell_type": "markdown",
   "metadata": {},
   "source": [
    "And if we went out and repeated this experiment?"
   ]
  },
  {
   "cell_type": "code",
   "execution_count": 16,
   "metadata": {},
   "outputs": [],
   "source": [
    "daily_sample2 = townsfolk_sampler(10)"
   ]
  },
  {
   "cell_type": "code",
   "execution_count": 17,
   "metadata": {},
   "outputs": [
    {
     "data": {
      "text/plain": [
       "173.7317666636263"
      ]
     },
     "execution_count": 17,
     "metadata": {},
     "output_type": "execute_result"
    }
   ],
   "source": [
    "np.mean(daily_sample2)"
   ]
  },
  {
   "cell_type": "markdown",
   "metadata": {},
   "source": [
    "__Q8:__ Simulate performing this random trial every day for a year, calculating the mean of each daily sample of 10, and plot the resultant sampling distribution of the mean."
   ]
  },
  {
   "cell_type": "markdown",
   "metadata": {},
   "source": [
    "#### A8) See below:"
   ]
  },
  {
   "cell_type": "code",
   "execution_count": 18,
   "metadata": {},
   "outputs": [
    {
     "data": {
      "text/plain": [
       "[173.47911444163503,\n",
       " 173.7317666636263,\n",
       " 172.54893867276104,\n",
       " 171.43257319553967,\n",
       " 172.7151613148319,\n",
       " 172.82799509412092,\n",
       " 172.72104620090087,\n",
       " 171.35684251559897,\n",
       " 172.06082915612325,\n",
       " 175.02116165843373,\n",
       " 172.87297442836729,\n",
       " 173.10695709894807,\n",
       " 174.28251319331625,\n",
       " 172.16799412617846,\n",
       " 172.2677166306168,\n",
       " 174.1148759511088,\n",
       " 173.76989560652873,\n",
       " 173.53587661697912,\n",
       " 171.73109636549412,\n",
       " 173.6192933521118,\n",
       " 171.4122703231149,\n",
       " 169.8912622859572,\n",
       " 171.50855064552047,\n",
       " 170.79777102526515,\n",
       " 172.13293591535268,\n",
       " 174.04237966386012,\n",
       " 171.41699712312,\n",
       " 169.68751210980005,\n",
       " 170.70138979236123,\n",
       " 170.50288822335273,\n",
       " 171.1227335807866,\n",
       " 172.18184913764566,\n",
       " 172.68945746436543,\n",
       " 171.0001004904461,\n",
       " 170.89451146667253,\n",
       " 171.09020297014567,\n",
       " 171.25533609966612,\n",
       " 172.10797845540236,\n",
       " 171.08827013545948,\n",
       " 172.6513531230999,\n",
       " 175.070689805427,\n",
       " 169.97597644140453,\n",
       " 172.2797674841427,\n",
       " 169.68001261485807,\n",
       " 172.80409332096238,\n",
       " 172.55229420480956,\n",
       " 173.83054118621465,\n",
       " 173.37568836233626,\n",
       " 171.89359355779794,\n",
       " 171.6665742212276,\n",
       " 169.9004743876151,\n",
       " 172.72984382291025,\n",
       " 169.46043079819069,\n",
       " 171.9066883458138,\n",
       " 174.31024504533102,\n",
       " 172.9549236584936,\n",
       " 170.26013472404284,\n",
       " 171.62782407697222,\n",
       " 171.93287814147618,\n",
       " 172.67107823125573,\n",
       " 173.35560534761376,\n",
       " 171.5928923513852,\n",
       " 174.01996330433786,\n",
       " 168.70526103039566,\n",
       " 174.4291544932485,\n",
       " 172.99782989083792,\n",
       " 169.85679627411287,\n",
       " 170.51072224889845,\n",
       " 169.90321605710665,\n",
       " 170.15223960286718,\n",
       " 171.69847097209998,\n",
       " 172.1247564115574,\n",
       " 170.7393421379653,\n",
       " 169.418394777909,\n",
       " 172.90126387627427,\n",
       " 173.349965975603,\n",
       " 172.31408857482649,\n",
       " 170.95008031433505,\n",
       " 168.6026063397666,\n",
       " 169.23740477644245,\n",
       " 168.98395307845203,\n",
       " 170.24977041291908,\n",
       " 172.28866881866844,\n",
       " 169.4954901013438,\n",
       " 172.14048141305437,\n",
       " 170.63029872192917,\n",
       " 170.81450578452282,\n",
       " 172.7564010423859,\n",
       " 172.270704952318,\n",
       " 172.75102003444198,\n",
       " 170.29337424391514,\n",
       " 171.37511929823515,\n",
       " 171.19824057530133,\n",
       " 175.6782843800554,\n",
       " 169.98345772406594,\n",
       " 171.97617797193666,\n",
       " 170.56013527190584,\n",
       " 171.50909868435141,\n",
       " 172.75712339394886,\n",
       " 173.2095114832777,\n",
       " 172.10653392996448,\n",
       " 173.14812711662768,\n",
       " 170.10688635551668,\n",
       " 173.3757843013828,\n",
       " 172.1393269463663,\n",
       " 169.68126101129226,\n",
       " 173.51940617466894,\n",
       " 170.64933192553676,\n",
       " 172.9302606791998,\n",
       " 171.55990939669806,\n",
       " 171.92304718402258,\n",
       " 173.64455234145223,\n",
       " 171.97230993627605,\n",
       " 171.4139294230426,\n",
       " 173.09648158348617,\n",
       " 171.59077758086715,\n",
       " 172.02580024296842,\n",
       " 172.21608501143896,\n",
       " 172.0071934611132,\n",
       " 172.33599701625351,\n",
       " 171.028648188148,\n",
       " 173.3730965923039,\n",
       " 171.63339660555894,\n",
       " 172.24280703841163,\n",
       " 170.96259686809128,\n",
       " 175.03094575416975,\n",
       " 173.6428041806974,\n",
       " 172.95723098557428,\n",
       " 171.9821148360482,\n",
       " 172.86230119411863,\n",
       " 173.2818959291762,\n",
       " 170.74391386736906,\n",
       " 171.85618466569377,\n",
       " 174.516404929308,\n",
       " 171.9757816604739,\n",
       " 172.8532356879273,\n",
       " 170.8863347896039,\n",
       " 172.02699101055003,\n",
       " 171.00702877519421,\n",
       " 174.4668408638607,\n",
       " 167.8482928708372,\n",
       " 170.87326329719744,\n",
       " 172.24076331599596,\n",
       " 174.06036645523105,\n",
       " 173.65199868699432,\n",
       " 171.31020238919996,\n",
       " 172.8757717751434,\n",
       " 169.00973760863025,\n",
       " 169.36066339463133,\n",
       " 172.8394581127686,\n",
       " 173.2849490876725,\n",
       " 167.94708299375463,\n",
       " 171.4944813760528,\n",
       " 173.26676195725375,\n",
       " 174.36603867262343,\n",
       " 169.3835107781193,\n",
       " 170.81702577580646,\n",
       " 172.65881074097973,\n",
       " 170.5043935231086,\n",
       " 174.48530539837125,\n",
       " 169.28374480528095,\n",
       " 173.11587199242774,\n",
       " 169.48869927808207,\n",
       " 174.05802462897157,\n",
       " 170.41037396562533,\n",
       " 170.3850832762101,\n",
       " 171.14614333175618,\n",
       " 171.28870072653964,\n",
       " 172.76671420430083,\n",
       " 169.95471759650735,\n",
       " 172.86382182013728,\n",
       " 172.6225511373559,\n",
       " 172.33656268781826,\n",
       " 168.62332166556928,\n",
       " 172.7111357521249,\n",
       " 171.82186352481727,\n",
       " 173.28085693950445,\n",
       " 169.06595378147523,\n",
       " 174.0801392411933,\n",
       " 174.9773349255948,\n",
       " 171.28213572811805,\n",
       " 171.6730813592417,\n",
       " 169.45634682144438,\n",
       " 173.43393215657332,\n",
       " 170.86374559269453,\n",
       " 173.21556904620837,\n",
       " 169.1862678724352,\n",
       " 171.20026812399502,\n",
       " 171.47106714440469,\n",
       " 173.32428817479482,\n",
       " 171.2691694937409,\n",
       " 169.74157082970493,\n",
       " 172.91823143229223,\n",
       " 171.78081907440483,\n",
       " 170.11860847293156,\n",
       " 171.87026079537708,\n",
       " 170.74069830935466,\n",
       " 172.46488874903895,\n",
       " 172.98225023418647,\n",
       " 174.46081103471732,\n",
       " 173.49400936370455,\n",
       " 169.51557464300683,\n",
       " 171.73063129611373,\n",
       " 170.7169353336031,\n",
       " 174.6602048576773,\n",
       " 172.3849780185491,\n",
       " 172.79482744498335,\n",
       " 172.66798523120897,\n",
       " 173.03683236655385,\n",
       " 169.03388574785288,\n",
       " 170.27625725905142,\n",
       " 171.6548397802826,\n",
       " 173.9110065626827,\n",
       " 172.36666043469813,\n",
       " 173.0806786048489,\n",
       " 170.5454321114398,\n",
       " 171.63218644552478,\n",
       " 173.75734815005714,\n",
       " 173.4663602192376,\n",
       " 173.93185477413437,\n",
       " 172.21851080918435,\n",
       " 174.99259084185877,\n",
       " 172.79446184726748,\n",
       " 171.51052052455086,\n",
       " 173.24255009028505,\n",
       " 171.8830523292385,\n",
       " 172.78335534863947,\n",
       " 171.91694787219325,\n",
       " 170.12924519370299,\n",
       " 171.6125036310404,\n",
       " 172.90245069941636,\n",
       " 173.09703321285585,\n",
       " 172.13187273881533,\n",
       " 173.1671394346884,\n",
       " 170.08389854480225,\n",
       " 173.93739863468136,\n",
       " 171.3831801935383,\n",
       " 173.0648792145468,\n",
       " 171.67286845324548,\n",
       " 172.74454332610662,\n",
       " 170.29325491672353,\n",
       " 168.50440626366915,\n",
       " 172.52943025832766,\n",
       " 168.22985199166658,\n",
       " 173.63375684095035,\n",
       " 173.8223904901435,\n",
       " 170.64928888578683,\n",
       " 171.7803289727296,\n",
       " 169.31058690937567,\n",
       " 170.90044256609488,\n",
       " 172.67827045507593,\n",
       " 172.0422309421312,\n",
       " 173.17659183674408,\n",
       " 169.49895501607463,\n",
       " 172.8853684043484,\n",
       " 173.3982671958468,\n",
       " 169.6718344723641,\n",
       " 169.3434812632541,\n",
       " 175.1631703883851,\n",
       " 170.59481340389107,\n",
       " 170.58426243494063,\n",
       " 172.72334025117496,\n",
       " 172.1307888143033,\n",
       " 169.01609630447473,\n",
       " 171.15681558897592,\n",
       " 174.684931280434,\n",
       " 169.29446475103575,\n",
       " 171.65686646102714,\n",
       " 173.8172097345154,\n",
       " 170.72391555094927,\n",
       " 170.5159267446483,\n",
       " 174.0926258645925,\n",
       " 168.74354262686796,\n",
       " 171.60449755276952,\n",
       " 173.35249290348906,\n",
       " 169.59524622005407,\n",
       " 172.31825115793964,\n",
       " 173.43051530494725,\n",
       " 175.97945459508188,\n",
       " 172.41542957870462,\n",
       " 172.48108913345823,\n",
       " 175.73235560113446,\n",
       " 173.30917671705808,\n",
       " 170.5016307174128,\n",
       " 171.47442800822694,\n",
       " 172.921116303701,\n",
       " 171.1639042540142,\n",
       " 173.15958685889186,\n",
       " 170.6199464194715,\n",
       " 170.84177739176616,\n",
       " 171.99038709269252,\n",
       " 174.23130175705404,\n",
       " 170.4855060493516,\n",
       " 172.02085224658146,\n",
       " 172.08650337240257,\n",
       " 173.12384811687497,\n",
       " 170.09817772721084,\n",
       " 171.4714587067785,\n",
       " 172.78753151796303,\n",
       " 172.85937740574727,\n",
       " 169.39067373385993,\n",
       " 172.88433436767303,\n",
       " 172.09661414856313,\n",
       " 172.27425697400423,\n",
       " 170.7114548591524,\n",
       " 172.19296597942235,\n",
       " 167.52865965907253,\n",
       " 172.32570464261443,\n",
       " 172.72742669079858,\n",
       " 172.5216957174198,\n",
       " 172.05940736419612,\n",
       " 168.8771648188222,\n",
       " 170.44810196307384,\n",
       " 173.01149455582384,\n",
       " 172.52292732563117,\n",
       " 169.7669347411906,\n",
       " 169.465402331526,\n",
       " 173.02223016664223,\n",
       " 170.27061511503928,\n",
       " 171.18421420659692,\n",
       " 173.06750477700962,\n",
       " 173.43258352486112,\n",
       " 171.82939845035773,\n",
       " 170.92672944980677,\n",
       " 169.81785832026858,\n",
       " 171.92871073981357,\n",
       " 170.34135388864743,\n",
       " 169.05442315458353,\n",
       " 172.84601765466334,\n",
       " 171.73522189318317,\n",
       " 169.2123811879794,\n",
       " 172.29730173923366,\n",
       " 169.99961438919348,\n",
       " 170.02830791269838,\n",
       " 171.75064789746975,\n",
       " 170.766935167691,\n",
       " 173.9810026650127,\n",
       " 169.92358516806348,\n",
       " 174.53205578998305,\n",
       " 173.21890262201072,\n",
       " 174.25370792104414,\n",
       " 172.91850748641357,\n",
       " 172.6887688830941,\n",
       " 172.064319088991,\n",
       " 169.88770099269323,\n",
       " 171.46079489790765,\n",
       " 171.48307828152147,\n",
       " 172.59879898682084,\n",
       " 172.37504542447692,\n",
       " 168.70639919115436,\n",
       " 172.76066642690037,\n",
       " 171.6634185490236,\n",
       " 173.98434386877807,\n",
       " 171.42827851034042,\n",
       " 171.77118445785496,\n",
       " 169.17922506646468,\n",
       " 173.782895546607,\n",
       " 170.82035700816542,\n",
       " 170.98291389030948,\n",
       " 172.02218170287054,\n",
       " 173.20080178649226,\n",
       " 172.85589043208137,\n",
       " 171.9024897421873,\n",
       " 170.45743937442882,\n",
       " 171.64487927395743]"
      ]
     },
     "execution_count": 18,
     "metadata": {},
     "output_type": "execute_result"
    }
   ],
   "source": [
    "seed(47)\n",
    "# take your samples here\n",
    "sampling_means_size_10=[]\n",
    "for i in range(365):\n",
    "    sampling_means_size_10.append(np.mean(townsfolk_sampler(10)))\n",
    "\n",
    "sampling_means_size_10"
   ]
  },
  {
   "cell_type": "code",
   "execution_count": 19,
   "metadata": {},
   "outputs": [
    {
     "data": {
      "image/png": "[encoded data removed]",
      "text/plain": [
       "<Figure size 432x288 with 1 Axes>"
      ]
     },
     "metadata": {
      "needs_background": "light"
     },
     "output_type": "display_data"
    }
   ],
   "source": [
    "_ = plt.hist(sampling_means_size_10, bins=40)\n",
    "_ = plt.xlabel('sample mean (cm)')\n",
    "_ = plt.ylabel('number of sample mean')\n",
    "_ = plt.title('Sampling Distribution of the mean')"
   ]
  },
  {
   "cell_type": "markdown",
   "metadata": {},
   "source": [
    "The above is the distribution of the means of samples of size 10 taken from our population. The Central Limit Theorem tells us the expected mean of this distribution will be equal to the population mean, and standard deviation will be $\\sigma / \\sqrt n$, which, in this case, should be approximately 1.58."
   ]
  },
  {
   "cell_type": "markdown",
   "metadata": {},
   "source": [
    "__Q9:__ Verify the above results from the CLT."
   ]
  },
  {
   "cell_type": "markdown",
   "metadata": {},
   "source": [
    "#### A9: We see that the mean of the sampling distribution of the mean is 171.86600493586488 which is approximately equal to the poplulation mean as the CLT states. Also the standard deviation of the sampling distribution of the mean is 1.5756704135286475 which is approximately 1.58 (as it is implied by CLT). "
   ]
  },
  {
   "cell_type": "code",
   "execution_count": 20,
   "metadata": {},
   "outputs": [
    {
     "data": {
      "text/plain": [
       "171.8660049358649"
      ]
     },
     "execution_count": 20,
     "metadata": {},
     "output_type": "execute_result"
    }
   ],
   "source": [
    "np.mean(sampling_means_size_10)"
   ]
  },
  {
   "cell_type": "code",
   "execution_count": 21,
   "metadata": {},
   "outputs": [
    {
     "data": {
      "text/plain": [
       "1.5756704135286475"
      ]
     },
     "execution_count": 21,
     "metadata": {},
     "output_type": "execute_result"
    }
   ],
   "source": [
    "np.std(sampling_means_size_10)"
   ]
  },
  {
   "cell_type": "markdown",
   "metadata": {},
   "source": [
    "Remember, in this instance, we knew our population parameters, that the average height really is 172 cm and the standard deviation is 5 cm, and we see some of our daily estimates of the population mean were as low as around 168 and some as high as 176."
   ]
  },
  {
   "cell_type": "markdown",
   "metadata": {},
   "source": [
    "__Q10:__ Repeat the above year's worth of samples but for a sample size of 50 (perhaps you had a bigger budget for conducting surveys that year)! Would you expect your distribution of sample means to be wider (more variable) or narrower (more consistent)? Compare your resultant summary statistics to those predicted by the CLT."
   ]
  },
  {
   "cell_type": "markdown",
   "metadata": {},
   "source": [
    "#### A10) As the number of people ( sample size) increses the standard deviation of the sampling distribution of the mean decreases. Therefore we expect the distribution of sample means to be narrower (more consistent). See the calcualtions below:"
   ]
  },
  {
   "cell_type": "code",
   "execution_count": 22,
   "metadata": {},
   "outputs": [
    {
     "data": {
      "text/plain": [
       "[172.7815108576788,\n",
       " 172.79757492503552,\n",
       " 172.9396310954854,\n",
       " 173.3542075784445,\n",
       " 171.1485580390421,\n",
       " 171.27023338249884,\n",
       " 171.57773042798325,\n",
       " 171.63862815675472,\n",
       " 171.96210793335894,\n",
       " 172.66373830647717,\n",
       " 171.6615364799722,\n",
       " 171.88936776644812,\n",
       " 172.4205753053962,\n",
       " 170.68416081476462,\n",
       " 171.37644563516122,\n",
       " 170.89082919619474,\n",
       " 170.63167276488755,\n",
       " 171.84458610711957,\n",
       " 171.7056952443146,\n",
       " 172.0024093610841,\n",
       " 172.17533172997156,\n",
       " 171.66803383747916,\n",
       " 172.41006409365593,\n",
       " 172.03517066252826,\n",
       " 171.84810905850273,\n",
       " 173.29507939012166,\n",
       " 172.47483621040422,\n",
       " 172.24808622542724,\n",
       " 171.7349369252512,\n",
       " 171.0791666560747,\n",
       " 172.0718628174714,\n",
       " 171.56980924327706,\n",
       " 171.27134293407755,\n",
       " 171.10827182706282,\n",
       " 171.83147861260113,\n",
       " 172.64522968251705,\n",
       " 171.34184833161441,\n",
       " 171.67949207236762,\n",
       " 171.1656798606149,\n",
       " 172.50378182453488,\n",
       " 172.02347109882115,\n",
       " 171.98370176182962,\n",
       " 172.25788852831275,\n",
       " 172.66663634007872,\n",
       " 172.95172682262927,\n",
       " 171.6650208749629,\n",
       " 172.27647892611563,\n",
       " 172.56057396442372,\n",
       " 170.63814005426747,\n",
       " 171.2926075648261,\n",
       " 172.05628333087486,\n",
       " 171.63431334474822,\n",
       " 171.12226067877384,\n",
       " 172.0354775555923,\n",
       " 171.66181713847348,\n",
       " 172.74777937134553,\n",
       " 172.69973603545813,\n",
       " 171.7412662455689,\n",
       " 172.16291010361644,\n",
       " 172.0680786949149,\n",
       " 171.47146681665058,\n",
       " 171.45929053786557,\n",
       " 171.38381920550947,\n",
       " 170.74187931219902,\n",
       " 171.81481490446072,\n",
       " 171.1811454661782,\n",
       " 170.65765062531491,\n",
       " 172.48449628255221,\n",
       " 172.3626008744472,\n",
       " 171.3248233563762,\n",
       " 172.32157836257954,\n",
       " 171.3575146428834,\n",
       " 172.01230012182947,\n",
       " 171.45586797475937,\n",
       " 172.60832644769337,\n",
       " 172.90923064763888,\n",
       " 171.8232960400748,\n",
       " 172.02353512146678,\n",
       " 172.69244683833068,\n",
       " 172.5943354823301,\n",
       " 171.99559210545397,\n",
       " 170.88697444561848,\n",
       " 171.1287369020899,\n",
       " 173.3049050979804,\n",
       " 172.69005486736165,\n",
       " 171.31418515136443,\n",
       " 171.93620537662483,\n",
       " 170.84661950770945,\n",
       " 171.9420815386141,\n",
       " 172.7083537460361,\n",
       " 172.1068195680666,\n",
       " 172.08204873872012,\n",
       " 172.0857165025829,\n",
       " 172.28737626070964,\n",
       " 172.04409392625038,\n",
       " 171.72714932124234,\n",
       " 171.6108994453248,\n",
       " 171.40343323871966,\n",
       " 172.30606391429757,\n",
       " 173.14332165770466,\n",
       " 172.27657327770484,\n",
       " 171.86275141603662,\n",
       " 171.50224664098383,\n",
       " 170.07952858877113,\n",
       " 172.5189009341571,\n",
       " 171.22251422041813,\n",
       " 172.67348326757946,\n",
       " 171.3293814179121,\n",
       " 171.00380509699332,\n",
       " 172.04855887469952,\n",
       " 172.35372679227385,\n",
       " 170.67921568704617,\n",
       " 172.99986959212052,\n",
       " 172.26329470364595,\n",
       " 172.0372815194926,\n",
       " 172.35291480579843,\n",
       " 172.11903049105516,\n",
       " 172.0066044678251,\n",
       " 172.46448231204985,\n",
       " 172.4842815283576,\n",
       " 173.0169980361144,\n",
       " 170.89881785435747,\n",
       " 171.42254596527545,\n",
       " 171.37289809789033,\n",
       " 171.2414752854563,\n",
       " 172.86603311439686,\n",
       " 172.39453776258665,\n",
       " 171.30716428108641,\n",
       " 171.4019540281487,\n",
       " 172.76196180965368,\n",
       " 172.32905324065024,\n",
       " 172.3554490722028,\n",
       " 172.5489706719045,\n",
       " 172.98899631619722,\n",
       " 171.2300829660369,\n",
       " 171.7600764723803,\n",
       " 171.15894560780814,\n",
       " 172.2999306331501,\n",
       " 171.83028602099984,\n",
       " 171.32862238423687,\n",
       " 170.77936767894244,\n",
       " 172.36292504264466,\n",
       " 172.0627351161584,\n",
       " 172.4572213189606,\n",
       " 171.47259301389403,\n",
       " 172.70448049640206,\n",
       " 170.9033793774536,\n",
       " 171.4977384620653,\n",
       " 171.92281752488395,\n",
       " 172.86154988875325,\n",
       " 172.8406753273718,\n",
       " 171.93324378922023,\n",
       " 171.74883388697694,\n",
       " 171.98380721046607,\n",
       " 171.46917463958798,\n",
       " 172.6146893473156,\n",
       " 172.91164033636466,\n",
       " 173.15753287968465,\n",
       " 172.27759829362836,\n",
       " 171.6774296769677,\n",
       " 171.54975020959088,\n",
       " 171.18582241213085,\n",
       " 171.66755046501711,\n",
       " 172.41658296742696,\n",
       " 173.04107187033074,\n",
       " 172.82076706195545,\n",
       " 171.46704286023976,\n",
       " 172.96233338098062,\n",
       " 172.12934776128904,\n",
       " 172.08330964582936,\n",
       " 171.8006916652453,\n",
       " 172.34308489334754,\n",
       " 171.88215305794077,\n",
       " 171.1559085024102,\n",
       " 171.85364449530417,\n",
       " 172.93460329977185,\n",
       " 173.18000857755993,\n",
       " 171.63724982728382,\n",
       " 173.4162760941612,\n",
       " 171.45107342933244,\n",
       " 170.76490777374693,\n",
       " 171.6380925465537,\n",
       " 171.74032428812748,\n",
       " 173.80301248510375,\n",
       " 171.74462296299367,\n",
       " 173.6235349342996,\n",
       " 171.2647502513369,\n",
       " 172.06979893037817,\n",
       " 172.17030823278597,\n",
       " 170.44348581706814,\n",
       " 172.73644707827924,\n",
       " 172.19090153359073,\n",
       " 170.6578604779148,\n",
       " 172.10099771905325,\n",
       " 171.71531553821683,\n",
       " 171.97867899672087,\n",
       " 171.99897228560974,\n",
       " 172.4364591414134,\n",
       " 171.1243322935377,\n",
       " 172.03204756684772,\n",
       " 171.30211257997559,\n",
       " 172.00669486226315,\n",
       " 172.38311872523292,\n",
       " 171.33568707613824,\n",
       " 171.33985719376716,\n",
       " 171.95870433759694,\n",
       " 171.1496261610421,\n",
       " 172.5782952059696,\n",
       " 172.42033433556662,\n",
       " 171.54928742914416,\n",
       " 172.5723730532069,\n",
       " 171.56614037303956,\n",
       " 171.37921101331048,\n",
       " 171.52449936229027,\n",
       " 171.33306899210882,\n",
       " 171.82625547275902,\n",
       " 171.44376529985166,\n",
       " 171.9873267301407,\n",
       " 172.0094762498349,\n",
       " 172.81511936308092,\n",
       " 171.91731067977227,\n",
       " 172.0977196544409,\n",
       " 172.32574513267085,\n",
       " 172.60347671265737,\n",
       " 172.44053362590222,\n",
       " 170.7468452174613,\n",
       " 170.98868067184708,\n",
       " 171.84561306662016,\n",
       " 171.8761956044929,\n",
       " 173.16669451210873,\n",
       " 171.758230409592,\n",
       " 172.31744287207303,\n",
       " 172.26066373967592,\n",
       " 172.90387119314428,\n",
       " 172.1542094707465,\n",
       " 172.41611963294156,\n",
       " 170.69078115925237,\n",
       " 172.74649501887535,\n",
       " 171.07615434950935,\n",
       " 172.02698832176975,\n",
       " 172.00554677262645,\n",
       " 172.74745263250585,\n",
       " 171.65945615758167,\n",
       " 172.42931787037676,\n",
       " 171.31139266156774,\n",
       " 172.86340638614564,\n",
       " 172.63046912414976,\n",
       " 171.90607197945067,\n",
       " 170.72003646709956,\n",
       " 172.10949275660838,\n",
       " 171.45152053467376,\n",
       " 171.86770717358283,\n",
       " 171.39371405813117,\n",
       " 172.14407557961246,\n",
       " 171.86145845615715,\n",
       " 171.0643157579227,\n",
       " 171.11107165580725,\n",
       " 171.97515142159185,\n",
       " 172.2507452119935,\n",
       " 172.1856139091256,\n",
       " 172.4867254532553,\n",
       " 172.62914954558713,\n",
       " 172.8416069041034,\n",
       " 172.95766914878197,\n",
       " 173.10461610473183,\n",
       " 171.41466281567926,\n",
       " 171.89091850205338,\n",
       " 171.91765493682541,\n",
       " 171.3856728570194,\n",
       " 172.5580115051518,\n",
       " 170.83751768580808,\n",
       " 172.60219501605832,\n",
       " 171.7505797307657,\n",
       " 171.9617303911309,\n",
       " 171.84660491414547,\n",
       " 172.35776791909186,\n",
       " 171.2458779978962,\n",
       " 171.93438007088704,\n",
       " 171.8606276617006,\n",
       " 171.84556709017835,\n",
       " 171.44970933561854,\n",
       " 172.74576860936187,\n",
       " 170.38777847996414,\n",
       " 172.3466863540159,\n",
       " 172.8038464437931,\n",
       " 171.91877900815456,\n",
       " 172.66506616836838,\n",
       " 170.78590101157235,\n",
       " 172.11850648936783,\n",
       " 170.75665956609814,\n",
       " 171.7151020651713,\n",
       " 172.10742863250215,\n",
       " 172.51206031029852,\n",
       " 171.65287206192647,\n",
       " 172.55011484163367,\n",
       " 171.80014021314176,\n",
       " 171.68322902960838,\n",
       " 171.72240274574912,\n",
       " 171.58157929787114,\n",
       " 172.89233455637458,\n",
       " 171.35548749762108,\n",
       " 171.21277983252344,\n",
       " 172.50712890942086,\n",
       " 170.60810840182512,\n",
       " 172.58764074576774,\n",
       " 172.59321378019294,\n",
       " 172.75315782350623,\n",
       " 171.78472781834543,\n",
       " 170.56401239103522,\n",
       " 172.65025382629744,\n",
       " 172.50016154070934,\n",
       " 171.01133751509252,\n",
       " 171.89707218069572,\n",
       " 171.39777017939866,\n",
       " 171.5888706941444,\n",
       " 172.17453748533066,\n",
       " 172.5422328160275,\n",
       " 171.25478419429447,\n",
       " 171.48147133549224,\n",
       " 171.46642822745997,\n",
       " 171.58713991008008,\n",
       " 172.04420677191985,\n",
       " 172.82918744818838,\n",
       " 172.51828644828274,\n",
       " 172.5579170585349,\n",
       " 170.41746242201705,\n",
       " 172.21333956770403,\n",
       " 170.64348987977087,\n",
       " 172.4764043893837,\n",
       " 171.8229891306343,\n",
       " 170.67173816614144,\n",
       " 172.6966076913146,\n",
       " 171.6376245764548,\n",
       " 172.02274650961598,\n",
       " 172.59149521166134,\n",
       " 173.04572889665104,\n",
       " 171.42114339710554,\n",
       " 171.9158785872262,\n",
       " 172.52349847658462,\n",
       " 171.99752954585546,\n",
       " 172.6785554217261,\n",
       " 171.36004753537688,\n",
       " 171.60437385324246,\n",
       " 172.2211546793179,\n",
       " 171.55142175857543,\n",
       " 171.1090944569839,\n",
       " 171.0826709592788,\n",
       " 172.4930814954672,\n",
       " 171.0924260704737,\n",
       " 172.17588303663732,\n",
       " 172.3121000669372,\n",
       " 171.559746981286,\n",
       " 172.96717428468912,\n",
       " 170.9695688866329,\n",
       " 172.40049192809616,\n",
       " 172.8644173394355,\n",
       " 171.11341965338775,\n",
       " 170.43821023646333,\n",
       " 171.3745857265041,\n",
       " 172.38010537944785,\n",
       " 173.39919328106328,\n",
       " 172.57927553982918,\n",
       " 171.7523151509625,\n",
       " 171.92714893397323,\n",
       " 172.78806643087367]"
      ]
     },
     "execution_count": 22,
     "metadata": {},
     "output_type": "execute_result"
    }
   ],
   "source": [
    "seed(47)\n",
    "# calculate daily means from the larger sample size here\n",
    "seed(47)\n",
    "# take your samples here\n",
    "sampling_means_size_50=[]\n",
    "for i in range(365):\n",
    "    sampling_means_size_50.append(np.mean(townsfolk_sampler(50)))\n",
    "\n",
    "sampling_means_size_50\n"
   ]
  },
  {
   "cell_type": "code",
   "execution_count": 23,
   "metadata": {},
   "outputs": [
    {
     "data": {
      "text/plain": [
       "171.94366080916114"
      ]
     },
     "execution_count": 23,
     "metadata": {},
     "output_type": "execute_result"
    }
   ],
   "source": [
    "np.mean(sampling_means_size_50)"
   ]
  },
  {
   "cell_type": "code",
   "execution_count": 24,
   "metadata": {},
   "outputs": [
    {
     "data": {
      "text/plain": [
       "0.6736107539771146"
      ]
     },
     "execution_count": 24,
     "metadata": {},
     "output_type": "execute_result"
    }
   ],
   "source": [
    "np.std(sampling_means_size_50)"
   ]
  },
  {
   "cell_type": "markdown",
   "metadata": {},
   "source": [
    "What we've seen so far, then, is that we can estimate population parameters from a sample from the population, and that samples have their own distributions. Furthermore, the larger the sample size, the narrower are those sampling distributions."
   ]
  },
  {
   "cell_type": "markdown",
   "metadata": {},
   "source": [
    "### Normally testing time!"
   ]
  },
  {
   "cell_type": "markdown",
   "metadata": {},
   "source": [
    "All of the above is well and good. We've been sampling from a population we know is normally distributed, we've come to understand when to use $n$ and when to use $n-1$ in the denominator to calculate the spread of a distribution, and we've  seen the Central Limit Theorem in action for a sampling distribution. All seems very well behaved in Frequentist land. But, well, why should we really care?"
   ]
  },
  {
   "cell_type": "markdown",
   "metadata": {},
   "source": [
    "Remember, we rarely (if ever) actually know our population parameters but we still have to estimate them somehow. If we want to make inferences to conclusions like \"this observation is unusual\" or \"my population mean has changed\" then we need to have some idea of what the underlying distribution is so we can calculate relevant probabilities. In frequentist inference, we use the formulae above to deduce these population parameters. Take a moment in the next part of this assignment to refresh your understanding of how these probabilities work."
   ]
  },
  {
   "cell_type": "markdown",
   "metadata": {},
   "source": [
    "Recall some basic properties of the standard normal distribution, such as that about 68% of observations are within plus or minus 1 standard deviation of the mean. Check out the precise definition of a normal distribution on p. 394 of *AoS*. \n",
    "\n",
    "__Q11:__ Using this fact, calculate the probability of observing the value 1 or less in a single observation from the standard normal distribution. Hint: you may find it helpful to sketch the standard normal distribution (the familiar bell shape) and mark the number of standard deviations from the mean on the x-axis and shade the regions of the curve that contain certain percentages of the population."
   ]
  },
  {
   "cell_type": "markdown",
   "metadata": {},
   "source": [
    "#### A11: Note the bell curve is symmetrical with respect to the mean. Since the mean is 0 and the standard deviation is 1 in the standard normal distribution, we concluded that we have the half of the area under the curve (the probability of observing the value 0 or less) plus the half of the 68% approximately (the probability of observing the value between 0 and 1 inclusive) so the probability is about 50+34=84%."
   ]
  },
  {
   "cell_type": "markdown",
   "metadata": {},
   "source": [
    "Calculating this probability involved calculating the area under the curve from the value of 1 and below. To put it in mathematical terms, we need to *integrate* the probability density function. We could just add together the known areas of chunks (from -Inf to 0 and then 0 to $+\\sigma$ in the example above). One way to do this is to look up tables (literally). Fortunately, scipy has this functionality built in with the cdf() function."
   ]
  },
  {
   "cell_type": "markdown",
   "metadata": {},
   "source": [
    "__Q12:__ Use the cdf() function to answer the question above again and verify you get the same answer."
   ]
  },
  {
   "cell_type": "markdown",
   "metadata": {},
   "source": [
    "#### A12: The answer is below."
   ]
  },
  {
   "cell_type": "code",
   "execution_count": 25,
   "metadata": {},
   "outputs": [
    {
     "data": {
      "text/plain": [
       "0.8413447460685429"
      ]
     },
     "execution_count": 25,
     "metadata": {},
     "output_type": "execute_result"
    }
   ],
   "source": [
    "norm.cdf(1)"
   ]
  },
  {
   "cell_type": "markdown",
   "metadata": {},
   "source": [
    "__Q13:__ Using our knowledge of the population parameters for our townsfolks' heights, what is the probability of selecting one person at random and their height being 177 cm or less? Calculate this using both of the approaches given above."
   ]
  },
  {
   "cell_type": "markdown",
   "metadata": {},
   "source": [
    "#### A13: We are asked to find the area under the bell curve from -infinity to x=177 (the mean + one standard deviation of the population). We have computed this in the previous question and got 84% approximately."
   ]
  },
  {
   "cell_type": "markdown",
   "metadata": {},
   "source": [
    "__Q14:__ Turning this question around — suppose we randomly pick one person and measure their height and find they are 2.00 m tall. How surprised should we be at this result, given what we know about the population distribution? In other words, how likely would it be to obtain a value at least as extreme as this? Express this as a probability. "
   ]
  },
  {
   "cell_type": "markdown",
   "metadata": {},
   "source": [
    "#### A14: Note that (200-172)/5=5.6 which implies that 200 cm is more than 5 standard deviations away from the mean. Notice that 99.7% of the values lie within 3 standard deviations of the mean which implies that 99.7% of the people in the town will have a height that lies in (157cm, 187cm). So it is very unlikely that a person will have a height of 200 cm. The chance is less than 1%. "
   ]
  },
  {
   "cell_type": "code",
   "execution_count": 26,
   "metadata": {},
   "outputs": [
    {
     "data": {
      "text/plain": [
       "5.6"
      ]
     },
     "execution_count": 26,
     "metadata": {},
     "output_type": "execute_result"
    }
   ],
   "source": [
    "p=(200-172)/5\n",
    "p"
   ]
  },
  {
   "cell_type": "markdown",
   "metadata": {},
   "source": [
    "What we've just done is calculate the ***p-value*** of the observation of someone 2.00m tall (review *p*-values if you need to on p. 399 of *AoS*). We could calculate this probability by virtue of knowing the population parameters. We were then able to use the known properties of the relevant normal distribution to calculate the probability of observing a value at least as extreme as our test value."
   ]
  },
  {
   "cell_type": "markdown",
   "metadata": {},
   "source": [
    "We're about to come to a pinch, though. We've said a couple of times that we rarely, if ever, know the true population parameters; we have to estimate them from our sample and we cannot even begin to estimate the standard deviation from a single observation. \n",
    "\n",
    "This is very true and usually we have sample sizes larger than one. This means we can calculate the mean of the sample as our best estimate of the population mean and the standard deviation as our best estimate of the population standard deviation. \n",
    "\n",
    "In other words, we are now coming to deal with the sampling distributions we mentioned above as we are generally concerned with the properties of the sample means we obtain. \n",
    "\n",
    "Above, we highlighted one result from the CLT, whereby the sampling distribution (of the mean) becomes narrower and narrower with the square root of the sample size. We remind ourselves that another result from the CLT is that _even if the underlying population distribution is not normal, the sampling distribution will tend to become normal with sufficiently large sample size_. (**Check out p. 199 of AoS if you need to revise this**). This is the key driver for us 'requiring' a certain sample size, for example you may frequently see a minimum sample size of 30 stated in many places. In reality this is simply a rule of thumb; if the underlying distribution is approximately normal then your sampling distribution will already be pretty normal, but if the underlying distribution is heavily skewed then you'd want to increase your sample size."
   ]
  },
  {
   "cell_type": "markdown",
   "metadata": {},
   "source": [
    "__Q15:__ Let's now start from the position of knowing nothing about the heights of people in our town.\n",
    "* Use the random seed of 47, to randomly sample the heights of 50 townsfolk\n",
    "* Estimate the population mean using np.mean\n",
    "* Estimate the population standard deviation using np.std (remember which denominator to use!)\n",
    "* Calculate the (95%) [margin of error](https://www.statisticshowto.datasciencecentral.com/probability-and-statistics/hypothesis-testing/margin-of-error/#WhatMofE) (use the exact critial z value to 2 decimal places - [look this up](https://www.statisticshowto.datasciencecentral.com/probability-and-statistics/find-critical-values/) or use norm.ppf()) Recall that the ***margin of error*** is mentioned on p. 189 of the *AoS* and discussed in depth in that chapter). \n",
    "* Calculate the 95% Confidence Interval of the mean (***confidence intervals*** are defined on p. 385 of *AoS*) \n",
    "* Does this interval include the true population mean?"
   ]
  },
  {
   "cell_type": "markdown",
   "metadata": {},
   "source": [
    "#### A15) See below:"
   ]
  },
  {
   "cell_type": "code",
   "execution_count": 27,
   "metadata": {},
   "outputs": [
    {
     "data": {
      "text/plain": [
       "array([179.04949004, 168.54189384, 181.71974048, 176.56433733,\n",
       "       165.91968052, 170.65629646, 179.37664509, 166.40103988,\n",
       "       177.15105034, 169.41097044, 169.96353026, 175.15960886,\n",
       "       177.08203296, 175.57499516, 174.54290109, 172.47967099,\n",
       "       168.61822612, 174.73274884, 170.88926244, 178.27468993,\n",
       "       171.52874629, 173.48970606, 172.0752456 , 172.29707499,\n",
       "       171.58202648, 169.84480352, 178.67104246, 174.28346436,\n",
       "       174.29645483, 167.42082214, 168.57939161, 169.54392578,\n",
       "       167.58621293, 176.8657094 , 164.25755366, 177.38929575,\n",
       "       171.97964488, 164.94136054, 177.90675289, 175.2758845 ,\n",
       "       176.64336688, 169.68013675, 175.41851966, 171.9408919 ,\n",
       "       179.69843965, 169.93651872, 169.3320981 , 172.17010876,\n",
       "       171.18783138, 171.14370134])"
      ]
     },
     "execution_count": 27,
     "metadata": {},
     "output_type": "execute_result"
    }
   ],
   "source": [
    "seed(47)\n",
    "# take your sample now\n",
    "sample_with_50 = townsfolk_sampler(50)\n",
    "sample_with_50"
   ]
  },
  {
   "cell_type": "code",
   "execution_count": 28,
   "metadata": {},
   "outputs": [
    {
     "data": {
      "text/plain": [
       "172.7815108576788"
      ]
     },
     "execution_count": 28,
     "metadata": {},
     "output_type": "execute_result"
    }
   ],
   "source": [
    "# An estimation of the population mean is given by the mean of the sample observed.\n",
    "estimate_population_mean=np.mean(sample_with_50)\n",
    "estimate_population_mean\n"
   ]
  },
  {
   "cell_type": "code",
   "execution_count": 29,
   "metadata": {},
   "outputs": [
    {
     "data": {
      "text/plain": [
       "4.195424364433547"
      ]
     },
     "execution_count": 29,
     "metadata": {},
     "output_type": "execute_result"
    }
   ],
   "source": [
    "# The unbiased estimator for the standard deviation of the populuation is given below:\n",
    "estimate_population_std=np.std(sample_with_50, ddof=1)\n",
    "estimate_population_std"
   ]
  },
  {
   "cell_type": "code",
   "execution_count": 30,
   "metadata": {},
   "outputs": [
    {
     "data": {
      "text/plain": [
       "1.162912303074119"
      ]
     },
     "execution_count": 30,
     "metadata": {},
     "output_type": "execute_result"
    }
   ],
   "source": [
    "# Margin error for 95% confidence interval.\n",
    "# First we need to find z-score (since we have more than 30 samples).\n",
    "a=(1-(100-95)*0.01)/2\n",
    "# We checked the z score table and saw that z score is equal to 1.96.\n",
    "# Now we need to multiply z-score by the standard error which is \n",
    "# the standard deviation divided by the square root of the sample size (50 in our case).\n",
    "z_score=1.96\n",
    "margin_error_z=z_score*(estimate_population_std/np.sqrt(50))\n",
    "margin_error_z"
   ]
  },
  {
   "cell_type": "code",
   "execution_count": 31,
   "metadata": {},
   "outputs": [
    {
     "data": {
      "text/plain": [
       "(171.61861992339115, 173.94440179196644)"
      ]
     },
     "execution_count": 31,
     "metadata": {},
     "output_type": "execute_result"
    }
   ],
   "source": [
    "upper=norm.ppf(0.975, loc=estimate_population_mean, scale=estimate_population_std/np.sqrt(50))\n",
    "lower=norm.ppf(0.025, loc=estimate_population_mean, scale=estimate_population_std/np.sqrt(50))\n",
    "\n",
    "confidence_interval_z=(lower,upper)\n",
    "confidence_interval_z"
   ]
  },
  {
   "cell_type": "markdown",
   "metadata": {},
   "source": [
    "__Q16:__ Above, we calculated the confidence interval using the critical z value. What is the problem with this? What requirement, or requirements, are we (strictly) failing?"
   ]
  },
  {
   "cell_type": "markdown",
   "metadata": {},
   "source": [
    "#### A16) We assume that the underlying distribution for the population is normal. This is a strict assumption, it may not be the case. "
   ]
  },
  {
   "cell_type": "markdown",
   "metadata": {},
   "source": [
    "__Q17:__ Calculate the 95% confidence interval for the mean using the _t_ distribution. Is this wider or narrower than that based on the normal distribution above? If you're unsure, you may find this [resource](https://www.statisticshowto.datasciencecentral.com/probability-and-statistics/confidence-interval/) useful. For calculating the critical value, remember how you could calculate this for the normal distribution using norm.ppf()."
   ]
  },
  {
   "cell_type": "markdown",
   "metadata": {},
   "source": [
    "#### A16) We calculated the confidence interval using the t-distribution below. The interval is slightly wider than the previous interval. "
   ]
  },
  {
   "cell_type": "code",
   "execution_count": 32,
   "metadata": {},
   "outputs": [
    {
     "data": {
      "text/plain": [
       "1.1867057487969177"
      ]
     },
     "execution_count": 32,
     "metadata": {},
     "output_type": "execute_result"
    }
   ],
   "source": [
    "df=50-1\n",
    "a=(1-0.95)/2\n",
    "t_score=1.980\n",
    "margin_error_t=t_score*(estimate_population_std/np.sqrt(49))\n",
    "margin_error_t"
   ]
  },
  {
   "cell_type": "code",
   "execution_count": 33,
   "metadata": {},
   "outputs": [
    {
     "data": {
      "text/plain": [
       "(171.59480510888187, 173.96821660647572)"
      ]
     },
     "execution_count": 33,
     "metadata": {},
     "output_type": "execute_result"
    }
   ],
   "source": [
    "lower=estimate_population_mean-margin_error_t\n",
    "upper=estimate_population_mean+margin_error_t\n",
    "confidence_interval_t=(lower,upper)\n",
    "confidence_interval_t"
   ]
  },
  {
   "cell_type": "markdown",
   "metadata": {},
   "source": [
    "This is slightly wider than the previous confidence interval. This reflects the greater uncertainty given that we are estimating population parameters from a sample."
   ]
  },
  {
   "cell_type": "markdown",
   "metadata": {},
   "source": [
    "## 4. Learning outcomes"
   ]
  },
  {
   "cell_type": "markdown",
   "metadata": {},
   "source": [
    "Having completed this project notebook, you now have hands-on experience:\n",
    "* sampling and calculating probabilities from a normal distribution\n",
    "* identifying the correct way to estimate the standard deviation of a population (the population parameter) from a sample\n",
    "* with sampling distribution and now know how the Central Limit Theorem applies\n",
    "* with how to calculate critical values and confidence intervals"
   ]
  }
 ],
 "metadata": {
  "kernelspec": {
   "display_name": "Python 3",
   "language": "python",
   "name": "python3"
  },
  "language_info": {
   "codemirror_mode": {
    "name": "ipython",
    "version": 3
   },
   "file_extension": ".py",
   "mimetype": "text/x-python",
   "name": "python",
   "nbconvert_exporter": "python",
   "pygments_lexer": "ipython3",
   "version": "3.8.5"
  }
 },
 "nbformat": 4,
 "nbformat_minor": 2
}
